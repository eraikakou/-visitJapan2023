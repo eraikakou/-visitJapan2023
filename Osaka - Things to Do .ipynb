{
 "cells": [
  {
   "cell_type": "markdown",
   "id": "4a48431e",
   "metadata": {},
   "source": [
    "1. Shinsekai = new world\n",
    "1. Osaka castle - hanami spot - cherry blossoms\n",
    "1. Tsutenkaku Tower\n",
    "1. Minami/Namba - Dotonbori => better at night \n",
    "1. Stroll down to Hozenji Yokocho\n",
    "1. Kita/Umeda"
   ]
  },
  {
   "cell_type": "markdown",
   "id": "de69c0ab",
   "metadata": {},
   "source": [
    "# Introduction\n",
    "\n",
    "Osaka is the capital city of Western Japan, and the second largest metropolitan city in Japan after Tokyo. It’s one of the most popular tourist destinations in Japan that attracts visitors from all around the world. Together with Tokyo and Kyoto, Osaka is one of three must-visit cities in Japan for every visitors to Japan.\n",
    "\n",
    "There are countless tourist attractions in Osaka including delicious local food, trendy shopping streets, bustling districts lit by neon lights, modern skyscraper, the world’s greatest amusement park, and more. The unique culture and friendly locals are also two attractive points that add a distinctive character to the city like no other.\n",
    "\n",
    "If you are planning your first visit to Osaka and wondering what the best things to do, see and experience in Osaka, please check out this Osaka Bucket List! The list includes 30 best things to do in Osaka from classic tourist attractions to trendy sites that can help you to plan a perfect trip in Osaka!\n",
    "\n"
   ]
  },
  {
   "cell_type": "markdown",
   "id": "17e3e6fb",
   "metadata": {},
   "source": [
    "# Neighbourhoods\n",
    "\n",
    "\n",
    "## Minami area: Dotonbori\n",
    "\n",
    "Dotonbori (道頓堀) is Osaka’s most touristic neighbourhood located in Minami area. The energetic and vibrant district is famous for billboards and shop displays with neon lights such as Glico Running Man and the moving gigantic crab.\n",
    "\n",
    "<img width=\"843\" alt=\"image\" src=\"https://user-images.githubusercontent.com/28102493/221404481-c8ef1155-dfc1-4475-8e6d-b5e30999eed2.png\">\n",
    "\n",
    "Dotonbori is a popular area to dine out as numerous restaurants are located within the area. As a center of entertainment in Osaka, the district offers numbers of spots for sightseeing, shopping, food, attractions, etc.. that you will never be bored!\n",
    "\n",
    "\n",
    "\n",
    "\n",
    "## Shinsekai\n",
    "\n",
    "## Shinsaibashi\n",
    "\n",
    "## Tsūtenkaku Tower\n",
    "\n",
    "## The Umeda Sky Building\n",
    "\n",
    "## Osaka Castle\n",
    "\n",
    "## America Mura (American Village)\n",
    "\n",
    "## Abeno Harukas\n",
    "\n",
    "## Kuromon Market\n",
    "\n",
    "## Shitennō-ji Temple\n",
    "\n",
    "##  Tenmangu Shrine and the Tenjin Festival"
   ]
  },
  {
   "cell_type": "markdown",
   "id": "a7322d3e",
   "metadata": {},
   "source": [
    "# References\n",
    "\n",
    "1. https://www.japan-guide.com/e/e2157.html\n",
    "1. https://www.planetware.com/tourist-attractions-/osaka-jpn-ks-o.htm\n",
    "1. https://jw-webmagazine.com/things-to-do-in-osaka/\n",
    "1. https://theculturetrip.com/asia/japan/articles/a-comprehensive-neighborhood-guide-to-osaka/\n",
    "1. https://nerdnomads.com/osaka-itinerary"
   ]
  },
  {
   "cell_type": "code",
   "execution_count": null,
   "id": "447026db",
   "metadata": {},
   "outputs": [],
   "source": []
  }
 ],
 "metadata": {
  "hide_input": false,
  "kernelspec": {
   "display_name": "Python 3",
   "language": "python",
   "name": "python3"
  },
  "language_info": {
   "codemirror_mode": {
    "name": "ipython",
    "version": 3
   },
   "file_extension": ".py",
   "mimetype": "text/x-python",
   "name": "python",
   "nbconvert_exporter": "python",
   "pygments_lexer": "ipython3",
   "version": "3.8.8"
  },
  "toc": {
   "base_numbering": 1,
   "nav_menu": {},
   "number_sections": true,
   "sideBar": true,
   "skip_h1_title": false,
   "title_cell": "Table of Contents",
   "title_sidebar": "Contents",
   "toc_cell": false,
   "toc_position": {},
   "toc_section_display": true,
   "toc_window_display": true
  }
 },
 "nbformat": 4,
 "nbformat_minor": 5
}
